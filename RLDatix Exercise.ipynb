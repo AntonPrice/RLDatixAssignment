{
 "cells": [
  {
   "cell_type": "markdown",
   "id": "b731e9b2",
   "metadata": {},
   "source": [
    "# RLDatix Assignment\n",
    "\n",
    "This is a notebook for the RL Datix assignment, written as I'm going through the task."
   ]
  },
  {
   "cell_type": "code",
   "execution_count": 1,
   "id": "d56fc9f0",
   "metadata": {},
   "outputs": [],
   "source": [
    "#Note this is to remove inconsequential warnings - usually from pandas version updates.\n",
    "import warnings\n",
    "warnings.filterwarnings('ignore')\n",
    "\n",
    "import pandas as pd\n",
    "import matplotlib\n",
    "import matplotlib.pyplot as plt\n",
    "import seaborn as sns\n",
    "import numpy as np\n",
    "import random\n",
    "import string\n",
    "\n",
    "import datetime\n",
    "import os\n",
    "\n",
    "#import sklearn\n",
    "import sklearn\n",
    "from sklearn.model_selection import train_test_split\n",
    "from sklearn.metrics import roc_curve, auc, log_loss, classification_report, precision_recall_curve, average_precision_score\n",
    "from sklearn.metrics import confusion_matrix\n",
    "\n",
    "import lightgbm as lgb\n",
    "\n",
    "%matplotlib inline\n",
    "pd.set_option('display.max_rows', 500)\n",
    "pd.set_option('display.max_columns', 500)"
   ]
  },
  {
   "cell_type": "markdown",
   "id": "2f844150",
   "metadata": {},
   "source": [
    "The first task is to read in the data"
   ]
  },
  {
   "cell_type": "code",
   "execution_count": 2,
   "id": "561aee13",
   "metadata": {},
   "outputs": [],
   "source": [
    "basepath = 'F:\\Kaggle'\n",
    "df_raw = pd.read_csv(os.path.join(basepath, 'Assignment_Data.csv'))"
   ]
  },
  {
   "cell_type": "markdown",
   "id": "46297a05",
   "metadata": {},
   "source": [
    "### Task 1 - Simple EDA\n",
    "\n",
    "I always like to have a look at the shape and the raw data to get a feel for what I'm working with, and see any categorical variables and such."
   ]
  },
  {
   "cell_type": "code",
   "execution_count": 3,
   "id": "4dba22b0",
   "metadata": {},
   "outputs": [
    {
     "data": {
      "text/plain": [
       "(200, 9)"
      ]
     },
     "execution_count": 3,
     "metadata": {},
     "output_type": "execute_result"
    }
   ],
   "source": [
    "df_raw.shape"
   ]
  },
  {
   "cell_type": "code",
   "execution_count": 4,
   "id": "f3e4f299",
   "metadata": {},
   "outputs": [
    {
     "data": {
      "text/html": [
       "<div>\n",
       "<style scoped>\n",
       "    .dataframe tbody tr th:only-of-type {\n",
       "        vertical-align: middle;\n",
       "    }\n",
       "\n",
       "    .dataframe tbody tr th {\n",
       "        vertical-align: top;\n",
       "    }\n",
       "\n",
       "    .dataframe thead th {\n",
       "        text-align: right;\n",
       "    }\n",
       "</style>\n",
       "<table border=\"1\" class=\"dataframe\">\n",
       "  <thead>\n",
       "    <tr style=\"text-align: right;\">\n",
       "      <th></th>\n",
       "      <th>patient_id</th>\n",
       "      <th>age</th>\n",
       "      <th>gender</th>\n",
       "      <th>diagnosis_code</th>\n",
       "      <th>num_previous_admissions</th>\n",
       "      <th>medication_type</th>\n",
       "      <th>length_of_stay</th>\n",
       "      <th>readmitted_30_days</th>\n",
       "      <th>discharge_note</th>\n",
       "    </tr>\n",
       "  </thead>\n",
       "  <tbody>\n",
       "    <tr>\n",
       "      <th>0</th>\n",
       "      <td>1</td>\n",
       "      <td>71</td>\n",
       "      <td>Male</td>\n",
       "      <td>D002</td>\n",
       "      <td>3</td>\n",
       "      <td>Type C</td>\n",
       "      <td>2</td>\n",
       "      <td>0</td>\n",
       "      <td>Good recovery trajectory. Follow-up scan sched...</td>\n",
       "    </tr>\n",
       "    <tr>\n",
       "      <th>1</th>\n",
       "      <td>2</td>\n",
       "      <td>34</td>\n",
       "      <td>Female</td>\n",
       "      <td>D002</td>\n",
       "      <td>1</td>\n",
       "      <td>Type B</td>\n",
       "      <td>3</td>\n",
       "      <td>1</td>\n",
       "      <td>Stable post-surgery. Advised to avoid physical...</td>\n",
       "    </tr>\n",
       "    <tr>\n",
       "      <th>2</th>\n",
       "      <td>3</td>\n",
       "      <td>80</td>\n",
       "      <td>Male</td>\n",
       "      <td>D002</td>\n",
       "      <td>2</td>\n",
       "      <td>Type C</td>\n",
       "      <td>5</td>\n",
       "      <td>1</td>\n",
       "      <td>Symptoms controlled. Monitoring for relapse ad...</td>\n",
       "    </tr>\n",
       "    <tr>\n",
       "      <th>3</th>\n",
       "      <td>4</td>\n",
       "      <td>40</td>\n",
       "      <td>Female</td>\n",
       "      <td>D002</td>\n",
       "      <td>2</td>\n",
       "      <td>Type C</td>\n",
       "      <td>11</td>\n",
       "      <td>0</td>\n",
       "      <td>Stable post-surgery. Advised to avoid physical...</td>\n",
       "    </tr>\n",
       "    <tr>\n",
       "      <th>4</th>\n",
       "      <td>5</td>\n",
       "      <td>43</td>\n",
       "      <td>Female</td>\n",
       "      <td>D001</td>\n",
       "      <td>1</td>\n",
       "      <td>Type C</td>\n",
       "      <td>8</td>\n",
       "      <td>1</td>\n",
       "      <td>Stable post-surgery. Advised to avoid physical...</td>\n",
       "    </tr>\n",
       "  </tbody>\n",
       "</table>\n",
       "</div>"
      ],
      "text/plain": [
       "   patient_id  age  gender diagnosis_code  num_previous_admissions  \\\n",
       "0           1   71    Male           D002                        3   \n",
       "1           2   34  Female           D002                        1   \n",
       "2           3   80    Male           D002                        2   \n",
       "3           4   40  Female           D002                        2   \n",
       "4           5   43  Female           D001                        1   \n",
       "\n",
       "  medication_type  length_of_stay  readmitted_30_days  \\\n",
       "0          Type C               2                   0   \n",
       "1          Type B               3                   1   \n",
       "2          Type C               5                   1   \n",
       "3          Type C              11                   0   \n",
       "4          Type C               8                   1   \n",
       "\n",
       "                                      discharge_note  \n",
       "0  Good recovery trajectory. Follow-up scan sched...  \n",
       "1  Stable post-surgery. Advised to avoid physical...  \n",
       "2  Symptoms controlled. Monitoring for relapse ad...  \n",
       "3  Stable post-surgery. Advised to avoid physical...  \n",
       "4  Stable post-surgery. Advised to avoid physical...  "
      ]
     },
     "execution_count": 4,
     "metadata": {},
     "output_type": "execute_result"
    }
   ],
   "source": [
    "df_raw.head()"
   ]
  },
  {
   "cell_type": "markdown",
   "id": "e23d0197",
   "metadata": {},
   "source": [
    "Looks like there's 7 main variables, with 1 target binary variable.  I will need to look at the distributions of each of the categorical and numeric variables, however it looks like discharge_note will need some further pre-processing.  \n",
    "\n",
    "My initial thoughts are to use a simple keyword/regex search to create some binary variables using this data."
   ]
  },
  {
   "cell_type": "code",
   "execution_count": 5,
   "id": "04d4c16f",
   "metadata": {},
   "outputs": [
    {
     "data": {
      "text/plain": [
       "<Axes: >"
      ]
     },
     "execution_count": 5,
     "metadata": {},
     "output_type": "execute_result"
    },
    {
     "data": {
      "image/png": "[encoded data removed]",
      "text/plain": [
       "<Figure size 640x480 with 1 Axes>"
      ]
     },
     "metadata": {},
     "output_type": "display_data"
    }
   ],
   "source": [
    "df_raw['age'].hist()"
   ]
  },
  {
   "cell_type": "code",
   "execution_count": 6,
   "id": "d47409a2",
   "metadata": {},
   "outputs": [
    {
     "data": {
      "text/plain": [
       "gender\n",
       "Female    107\n",
       "Male       93\n",
       "Name: count, dtype: int64"
      ]
     },
     "execution_count": 6,
     "metadata": {},
     "output_type": "execute_result"
    }
   ],
   "source": [
    "df_raw['gender'].value_counts()"
   ]
  },
  {
   "cell_type": "code",
   "execution_count": 7,
   "id": "f6dd7eeb",
   "metadata": {},
   "outputs": [
    {
     "data": {
      "text/plain": [
       "diagnosis_code\n",
       "D001    56\n",
       "D002    54\n",
       "D004    53\n",
       "D003    37\n",
       "Name: count, dtype: int64"
      ]
     },
     "execution_count": 7,
     "metadata": {},
     "output_type": "execute_result"
    }
   ],
   "source": [
    "df_raw['diagnosis_code'].value_counts()"
   ]
  },
  {
   "cell_type": "code",
   "execution_count": 8,
   "id": "4597cbb8",
   "metadata": {},
   "outputs": [
    {
     "data": {
      "text/plain": [
       "<Axes: >"
      ]
     },
     "execution_count": 8,
     "metadata": {},
     "output_type": "execute_result"
    },
    {
     "data": {
      "image/png": "[encoded data removed]",
      "text/plain": [
       "<Figure size 640x480 with 1 Axes>"
      ]
     },
     "metadata": {},
     "output_type": "display_data"
    }
   ],
   "source": [
    "df_raw['num_previous_admissions'].hist()"
   ]
  },
  {
   "cell_type": "code",
   "execution_count": 9,
   "id": "4bda30aa",
   "metadata": {},
   "outputs": [
    {
     "data": {
      "text/plain": [
       "medication_type\n",
       "Type B    69\n",
       "Type A    67\n",
       "Type C    64\n",
       "Name: count, dtype: int64"
      ]
     },
     "execution_count": 9,
     "metadata": {},
     "output_type": "execute_result"
    }
   ],
   "source": [
    "df_raw['medication_type'].value_counts()"
   ]
  },
  {
   "cell_type": "code",
   "execution_count": 10,
   "id": "1c586555",
   "metadata": {},
   "outputs": [
    {
     "data": {
      "text/plain": [
       "<Axes: >"
      ]
     },
     "execution_count": 10,
     "metadata": {},
     "output_type": "execute_result"
    },
    {
     "data": {
      "image/png": "[encoded data removed]",
      "text/plain": [
       "<Figure size 640x480 with 1 Axes>"
      ]
     },
     "metadata": {},
     "output_type": "display_data"
    }
   ],
   "source": [
    "df_raw['length_of_stay'].hist()"
   ]
  },
  {
   "cell_type": "code",
   "execution_count": 11,
   "id": "61ebd1a2",
   "metadata": {},
   "outputs": [
    {
     "data": {
      "text/plain": [
       "readmitted_30_days\n",
       "0    135\n",
       "1     65\n",
       "Name: count, dtype: int64"
      ]
     },
     "execution_count": 11,
     "metadata": {},
     "output_type": "execute_result"
    }
   ],
   "source": [
    "df_raw['readmitted_30_days'].value_counts()"
   ]
  },
  {
   "cell_type": "markdown",
   "id": "830bd9fa",
   "metadata": {},
   "source": [
    "So no major outliers here and most of the variables seem somewhat evenly distributed, with the exception of num_previous_admissions which looks to be a gaussian.  Diagnosis code D003 also seems under-represented.\n",
    "\n",
    "The target is also not evenly distributed at a roughly 2:1 balance, this isn't too bad, so binary crossentropy as a loss function should be okay assuming the features are somewhat predictive.  Uniform predictions are a minor but unlikely outcome with this balance (note I'm comparing this to fraud propensity which had a 95:5 class imbalance).  Generative techniques (e.g. SMOTE) probably unnecessary and subsampling is very undesireable given the very small data size (200 samples)."
   ]
  },
  {
   "cell_type": "code",
   "execution_count": 12,
   "id": "6096ad1e",
   "metadata": {},
   "outputs": [
    {
     "data": {
      "text/plain": [
       "10"
      ]
     },
     "execution_count": 12,
     "metadata": {},
     "output_type": "execute_result"
    }
   ],
   "source": [
    "df_raw['discharge_note'].nunique()"
   ]
  },
  {
   "cell_type": "code",
   "execution_count": 13,
   "id": "551b146c",
   "metadata": {},
   "outputs": [
    {
     "data": {
      "text/plain": [
       "['Good recovery trajectory. Follow-up scan scheduled next month.',\n",
       " 'Stable post-surgery. Advised to avoid physical exertion.',\n",
       " 'Symptoms controlled. Monitoring for relapse advised.',\n",
       " 'Discharge after recovery from pneumonia. No complications observed.',\n",
       " 'Patient discharged in stable condition. Recommend follow-up in 2 weeks.',\n",
       " 'Patient showed improvement. Prescribed antibiotics for 5 days.',\n",
       " 'Blood pressure under control. Continue current medication.',\n",
       " 'Patient discharged with minor discomfort. Advised rest and hydration.',\n",
       " 'No further signs of infection. Resume normal diet and activity.',\n",
       " 'Mild reaction to medication. Switched to alternative treatment.']"
      ]
     },
     "execution_count": 13,
     "metadata": {},
     "output_type": "execute_result"
    }
   ],
   "source": [
    "#Note below is commented as it produces a large text box that I read through.\n",
    "list(df_raw['discharge_note'].unique())"
   ]
  },
  {
   "cell_type": "markdown",
   "id": "0c30e9c1",
   "metadata": {},
   "source": [
    "Looking at the discharge_note there's only 10 unique notes so I can probably just treat this as a categorical variable.\n",
    "\n",
    "To be honest an LLM doesn't seem required for this task given the small scope, and ordinarily I wouldn't use one for this however I will given I am instructed to.\n",
    "\n",
    "Next to look at some target distributions by the variables."
   ]
  },
  {
   "cell_type": "code",
   "execution_count": 14,
   "id": "c3080201",
   "metadata": {},
   "outputs": [],
   "source": [
    "def plot_var(df,var_to_plot):\n",
    "    bar_tst = df.groupby([var_to_plot,'readmitted_30_days'])['patient_id'].count().reset_index()\n",
    "\n",
    "    g = sns.catplot(\n",
    "        data=bar_tst, kind=\"bar\",\n",
    "        x=var_to_plot, y=\"patient_id\", hue=\"readmitted_30_days\", palette=\"dark\", alpha=.6, height=6\n",
    "    )\n",
    "    g.despine(left=True)\n",
    "    g.set_axis_labels(var_to_plot, \"Number of Patients\")\n",
    "    g.legend.set_title(\"Re-admitted\")"
   ]
  },
  {
   "cell_type": "code",
   "execution_count": 15,
   "id": "cc885158",
   "metadata": {},
   "outputs": [
    {
     "data": {
      "image/png": "[encoded data removed]",
      "text/plain": [
       "<Figure size 752.736x600 with 1 Axes>"
      ]
     },
     "metadata": {},
     "output_type": "display_data"
    }
   ],
   "source": [
    "plot_var(df_raw, 'gender')"
   ]
  },
  {
   "cell_type": "code",
   "execution_count": 16,
   "id": "89b76351",
   "metadata": {},
   "outputs": [
    {
     "data": {
      "image/png": "[encoded data removed]",
      "text/plain": [
       "<Figure size 752.736x600 with 1 Axes>"
      ]
     },
     "metadata": {},
     "output_type": "display_data"
    }
   ],
   "source": [
    "plot_var(df_raw, 'diagnosis_code')"
   ]
  },
  {
   "cell_type": "code",
   "execution_count": 17,
   "id": "6a55f3ec",
   "metadata": {},
   "outputs": [
    {
     "data": {
      "image/png": "[encoded data removed]",
      "text/plain": [
       "<Figure size 752.736x600 with 1 Axes>"
      ]
     },
     "metadata": {},
     "output_type": "display_data"
    }
   ],
   "source": [
    "plot_var(df_raw, 'num_previous_admissions')"
   ]
  },
  {
   "cell_type": "markdown",
   "id": "026dc40b",
   "metadata": {},
   "source": [
    "Note that 6 and 0 previous admissions are abnormally high looking at the distributions.  This is somewhat counter intuitive as I would expect this variable to increase in re-admissions as it gets higher (i.e. indicating patient complications).  An almost 50% re-admission rate for 0 stands out as odd although there's probably a medical reason (second opinion, or simply waiting to see if symptoms get worse/the problem goes away on its own)."
   ]
  },
  {
   "cell_type": "code",
   "execution_count": 18,
   "id": "ee4463f5",
   "metadata": {},
   "outputs": [
    {
     "data": {
      "image/png": "[encoded data removed]",
      "text/plain": [
       "<Figure size 752.736x600 with 1 Axes>"
      ]
     },
     "metadata": {},
     "output_type": "display_data"
    }
   ],
   "source": [
    "plot_var(df_raw, 'medication_type')"
   ]
  },
  {
   "cell_type": "markdown",
   "id": "f7089daa",
   "metadata": {},
   "source": [
    "### Task 2 - Feature Engineering\n",
    "\n",
    "Note that a bit of this was done with the discharge_note field above, but here I want to just convert all of my character fields, with the exception of discharge_note, into numeric variables so I can use them in a predictive model.\n",
    "\n",
    "In order to encode the character fields to numeric I'll use two different kinds of encoding - target encoding and label encoding. I will probably experiment with both to see which provides better features for the model.\n",
    "\n",
    "Target encoding may cause overfitting, which on such limited data is a significant risk, given I will be using a GBM initially as this is the model class best suited for tabular data in my experience.  However this depends if the model can fit at all.  Note as I am performing the train/test split post-encoding there is some data leakage (i.e. validation target information in the train dataset), however given the small nature of the dataset and the fact I'm only using 2 validation folds I think this is acceptable in this instance. If I were to use a 3rd validation fold I would ensure there is no data leakage."
   ]
  },
  {
   "cell_type": "code",
   "execution_count": 19,
   "id": "b1785012",
   "metadata": {},
   "outputs": [],
   "source": [
    "#Create new copy of dataset as I will be re-mapping columns\n",
    "df_vec = df_raw.copy()"
   ]
  },
  {
   "cell_type": "code",
   "execution_count": 20,
   "id": "0e38228b",
   "metadata": {},
   "outputs": [],
   "source": [
    "def label_encode_col(df, col_to_map):\n",
    "    val_lst = list(df[col_to_map].unique())\n",
    "    map_dict = {}\n",
    "\n",
    "    for i in range(len(val_lst)):\n",
    "        map_dict[val_lst[i]] = i\n",
    "\n",
    "    df[col_to_map] = df[col_to_map].map(map_dict)\n",
    "    return df\n",
    "\n",
    "def target_encode_col(df, col_to_map):\n",
    "    val_lst = list(df[col_to_map].unique())\n",
    "    map_dict = {}\n",
    "\n",
    "    for i in range(len(val_lst)):\n",
    "        map_dict[val_lst[i]] = df[df[col_to_map] == val_lst[i]]['readmitted_30_days'].mean()\n",
    "\n",
    "    df[col_to_map] = df[col_to_map].map(map_dict)\n",
    "    return df"
   ]
  },
  {
   "cell_type": "code",
   "execution_count": 21,
   "id": "67925a03-2509-4d5e-ab8d-ca60b036a0b1",
   "metadata": {},
   "outputs": [],
   "source": [
    "#Removing these - keeping cell for testing purposes\n",
    "#df_vec = label_encode_col(df_vec, 'gender')\n",
    "#df_vec = label_encode_col(df_vec, 'diagnosis_code')\n",
    "#df_vec = label_encode_col(df_vec, 'medication_type')\n",
    "#df_vec = label_encode_col(df_vec, 'discharge_note')"
   ]
  },
  {
   "cell_type": "code",
   "execution_count": 22,
   "id": "3fa174a2",
   "metadata": {},
   "outputs": [],
   "source": [
    "df_vec = target_encode_col(df_vec, 'gender')\n",
    "df_vec = target_encode_col(df_vec, 'diagnosis_code')\n",
    "df_vec = target_encode_col(df_vec, 'medication_type')\n",
    "df_vec = target_encode_col(df_vec, 'discharge_note')"
   ]
  },
  {
   "cell_type": "markdown",
   "id": "d2b00b77",
   "metadata": {},
   "source": [
    "Now I have the note categorized I can plot it without the axis becoming a mess."
   ]
  },
  {
   "cell_type": "code",
   "execution_count": 23,
   "id": "e6342e4d",
   "metadata": {},
   "outputs": [
    {
     "data": {
      "image/png": "[encoded data removed]",
      "text/plain": [
       "<Figure size 752.736x600 with 1 Axes>"
      ]
     },
     "metadata": {},
     "output_type": "display_data"
    }
   ],
   "source": [
    "#Note the below only works with label encoding, otherwise becomes a mess again\n",
    "plot_var(df_vec, 'discharge_note')"
   ]
  },
  {
   "cell_type": "markdown",
   "id": "d02f86a8",
   "metadata": {},
   "source": [
    "Now to get my feature list, target and generate a train and test dataset.  I usually do 3-fold validation at minimum however with only 200 samples I think I will have to stick to 2. \n",
    "\n",
    "This does mean that the resultant classifier will be overfit to this particular dataset, however with such little data getting a generalized classifier is outside of the scope of this project.  The reason the classifier will be overfit as the test set I will be using for early stopping, so by definition the resultant model will be optimised for that particular dataset.\n",
    "\n",
    "Early stopping is an absolute requirement for using GBMs effectively in my experience because otherwise they will heavily overfit the training data, which is simply a property of boosting by definition."
   ]
  },
  {
   "cell_type": "code",
   "execution_count": 24,
   "id": "e5a50004",
   "metadata": {},
   "outputs": [],
   "source": [
    "feature_cols = ['age',\n",
    " 'gender',\n",
    " 'diagnosis_code',\n",
    " 'num_previous_admissions',\n",
    " 'medication_type',\n",
    " 'length_of_stay',\n",
    " 'discharge_note']"
   ]
  },
  {
   "cell_type": "markdown",
   "id": "7316512e",
   "metadata": {},
   "source": [
    "### Task 3 - Modelling\n",
    "\n",
    "Note - no hyperparameter tuning done here because the dataset is so small its reasonable to manually tune.  When tuning hyperparameters I typically use Bayesian Optimisation with a gaussian process backend.\n",
    "\n",
    "At time of writing I've tried a few different models - XGBoost, LightGBM both of these model classes performed extremely poorly.\n",
    "\n",
    "I have then went on to try a couple of other models such as a simple linear regressor and a SVM and both of these models converged to uniform 0 predictions, note I didn't use any MLP as I've historically found neural networks are pretty bad at predicting tabular data and would also mean more feature engineering (standard scalers are required for numeric features) and implementing SHAP for feature importances.\n",
    "\n",
    "For now I will leave the \"best\" model - LightGBM and perhaps come back when I have the LLM implemented.\n",
    "\n",
    "Note the performance is greatly dependant upon the seed of the train_test_split due to the extremely small datasets."
   ]
  },
  {
   "cell_type": "code",
   "execution_count": 172,
   "id": "cfff4c49",
   "metadata": {},
   "outputs": [],
   "source": [
    "#Generate test/train datasets\n",
    "X_train, X_test, y_train, y_test = train_test_split(df_vec[feature_cols], df_vec['readmitted_30_days'], test_size=0.35,\\\n",
    "                                                    random_state=545)"
   ]
  },
  {
   "cell_type": "code",
   "execution_count": 173,
   "id": "d24fd110-30f3-421b-a672-a6fd1a3de122",
   "metadata": {},
   "outputs": [],
   "source": [
    "lgb_mod = lgb.LGBMClassifier(objective='binary', n_estimators=300, boosting_type='gbdt', \\\n",
    "                             metric=\"auc\",importance_type='gain')"
   ]
  },
  {
   "cell_type": "code",
   "execution_count": 174,
   "id": "6ded5cb9-d879-496a-bcef-5c47d5b0fce2",
   "metadata": {
    "scrolled": true
   },
   "outputs": [
    {
     "name": "stdout",
     "output_type": "stream",
     "text": [
      "[LightGBM] [Info] Number of positive: 47, number of negative: 83\n",
      "[LightGBM] [Info] Auto-choosing col-wise multi-threading, the overhead of testing was 0.000033 seconds.\n",
      "You can set `force_col_wise=true` to remove the overhead.\n",
      "[LightGBM] [Info] Total Bins 77\n",
      "[LightGBM] [Info] Number of data points in the train set: 130, number of used features: 7\n",
      "[LightGBM] [Info] [binary:BoostFromScore]: pavg=0.361538 -> initscore=-0.568693\n",
      "[LightGBM] [Info] Start training from score -0.568693\n",
      "[LightGBM] [Warning] No further splits with positive gain, best gain: -inf\n",
      "Training until validation scores don't improve for 50 rounds\n",
      "[LightGBM] [Warning] No further splits with positive gain, best gain: -inf\n",
      "[LightGBM] [Warning] No further splits with positive gain, best gain: -inf\n",
      "[LightGBM] [Warning] No further splits with positive gain, best gain: -inf\n",
      "[LightGBM] [Warning] No further splits with positive gain, best gain: -inf\n",
      "[LightGBM] [Warning] No further splits with positive gain, best gain: -inf\n",
      "[LightGBM] [Warning] No further splits with positive gain, best gain: -inf\n",
      "[LightGBM] [Warning] No further splits with positive gain, best gain: -inf\n",
      "[LightGBM] [Warning] No further splits with positive gain, best gain: -inf\n",
      "[LightGBM] [Warning] No further splits with positive gain, best gain: -inf\n",
      "[LightGBM] [Warning] No further splits with positive gain, best gain: -inf\n",
      "[LightGBM] [Warning] No further splits with positive gain, best gain: -inf\n",
      "[LightGBM] [Warning] No further splits with positive gain, best gain: -inf\n",
      "[LightGBM] [Warning] No further splits with positive gain, best gain: -inf\n",
      "[LightGBM] [Warning] No further splits with positive gain, best gain: -inf\n",
      "[LightGBM] [Warning] No further splits with positive gain, best gain: -inf\n",
      "[LightGBM] [Warning] No further splits with positive gain, best gain: -inf\n",
      "[LightGBM] [Warning] No further splits with positive gain, best gain: -inf\n",
      "[LightGBM] [Warning] No further splits with positive gain, best gain: -inf\n",
      "[LightGBM] [Warning] No further splits with positive gain, best gain: -inf\n",
      "[LightGBM] [Warning] No further splits with positive gain, best gain: -inf\n",
      "[LightGBM] [Warning] No further splits with positive gain, best gain: -inf\n",
      "[LightGBM] [Warning] No further splits with positive gain, best gain: -inf\n",
      "[LightGBM] [Warning] No further splits with positive gain, best gain: -inf\n",
      "[LightGBM] [Warning] No further splits with positive gain, best gain: -inf\n",
      "[LightGBM] [Warning] No further splits with positive gain, best gain: -inf\n",
      "[LightGBM] [Warning] No further splits with positive gain, best gain: -inf\n",
      "[LightGBM] [Warning] No further splits with positive gain, best gain: -inf\n",
      "[LightGBM] [Warning] No further splits with positive gain, best gain: -inf\n",
      "[LightGBM] [Warning] No further splits with positive gain, best gain: -inf\n",
      "[LightGBM] [Warning] No further splits with positive gain, best gain: -inf\n",
      "[LightGBM] [Warning] No further splits with positive gain, best gain: -inf\n",
      "[LightGBM] [Warning] No further splits with positive gain, best gain: -inf\n",
      "[LightGBM] [Warning] No further splits with positive gain, best gain: -inf\n",
      "[LightGBM] [Warning] No further splits with positive gain, best gain: -inf\n",
      "[LightGBM] [Warning] No further splits with positive gain, best gain: -inf\n",
      "[LightGBM] [Warning] No further splits with positive gain, best gain: -inf\n",
      "[LightGBM] [Warning] No further splits with positive gain, best gain: -inf\n",
      "[LightGBM] [Warning] No further splits with positive gain, best gain: -inf\n",
      "[LightGBM] [Warning] No further splits with positive gain, best gain: -inf\n",
      "[LightGBM] [Warning] No further splits with positive gain, best gain: -inf\n",
      "[LightGBM] [Warning] No further splits with positive gain, best gain: -inf\n",
      "[LightGBM] [Warning] No further splits with positive gain, best gain: -inf\n",
      "[LightGBM] [Warning] No further splits with positive gain, best gain: -inf\n",
      "[LightGBM] [Warning] No further splits with positive gain, best gain: -inf\n",
      "[LightGBM] [Warning] No further splits with positive gain, best gain: -inf\n",
      "[LightGBM] [Warning] No further splits with positive gain, best gain: -inf\n",
      "[LightGBM] [Warning] No further splits with positive gain, best gain: -inf\n",
      "[LightGBM] [Warning] No further splits with positive gain, best gain: -inf\n",
      "[LightGBM] [Warning] No further splits with positive gain, best gain: -inf\n",
      "[LightGBM] [Warning] No further splits with positive gain, best gain: -inf\n",
      "[LightGBM] [Warning] No further splits with positive gain, best gain: -inf\n",
      "[LightGBM] [Warning] No further splits with positive gain, best gain: -inf\n",
      "[LightGBM] [Warning] No further splits with positive gain, best gain: -inf\n",
      "[LightGBM] [Warning] No further splits with positive gain, best gain: -inf\n",
      "[LightGBM] [Warning] No further splits with positive gain, best gain: -inf\n",
      "[LightGBM] [Warning] No further splits with positive gain, best gain: -inf\n",
      "[LightGBM] [Warning] No further splits with positive gain, best gain: -inf\n",
      "[LightGBM] [Warning] No further splits with positive gain, best gain: -inf\n",
      "[LightGBM] [Warning] No further splits with positive gain, best gain: -inf\n",
      "[LightGBM] [Warning] No further splits with positive gain, best gain: -inf\n",
      "[LightGBM] [Warning] No further splits with positive gain, best gain: -inf\n",
      "[LightGBM] [Warning] No further splits with positive gain, best gain: -inf\n",
      "[LightGBM] [Warning] No further splits with positive gain, best gain: -inf\n",
      "[LightGBM] [Warning] No further splits with positive gain, best gain: -inf\n",
      "[LightGBM] [Warning] No further splits with positive gain, best gain: -inf\n",
      "[LightGBM] [Warning] No further splits with positive gain, best gain: -inf\n",
      "[LightGBM] [Warning] No further splits with positive gain, best gain: -inf\n",
      "[LightGBM] [Warning] No further splits with positive gain, best gain: -inf\n",
      "[LightGBM] [Warning] No further splits with positive gain, best gain: -inf\n",
      "[LightGBM] [Warning] No further splits with positive gain, best gain: -inf\n",
      "[LightGBM] [Warning] No further splits with positive gain, best gain: -inf\n",
      "[LightGBM] [Warning] No further splits with positive gain, best gain: -inf\n",
      "[LightGBM] [Warning] No further splits with positive gain, best gain: -inf\n",
      "[LightGBM] [Warning] No further splits with positive gain, best gain: -inf\n",
      "[LightGBM] [Warning] No further splits with positive gain, best gain: -inf\n",
      "[LightGBM] [Warning] No further splits with positive gain, best gain: -inf\n",
      "[LightGBM] [Warning] No further splits with positive gain, best gain: -inf\n",
      "[LightGBM] [Warning] No further splits with positive gain, best gain: -inf\n",
      "[LightGBM] [Warning] No further splits with positive gain, best gain: -inf\n",
      "[LightGBM] [Warning] No further splits with positive gain, best gain: -inf\n",
      "[LightGBM] [Warning] No further splits with positive gain, best gain: -inf\n",
      "[LightGBM] [Warning] No further splits with positive gain, best gain: -inf\n",
      "[LightGBM] [Warning] No further splits with positive gain, best gain: -inf\n",
      "[LightGBM] [Warning] No further splits with positive gain, best gain: -inf\n",
      "[LightGBM] [Warning] No further splits with positive gain, best gain: -inf\n",
      "[LightGBM] [Warning] No further splits with positive gain, best gain: -inf\n",
      "[LightGBM] [Warning] No further splits with positive gain, best gain: -inf\n",
      "[LightGBM] [Warning] No further splits with positive gain, best gain: -inf\n",
      "[LightGBM] [Warning] No further splits with positive gain, best gain: -inf\n",
      "[LightGBM] [Warning] No further splits with positive gain, best gain: -inf\n",
      "[LightGBM] [Warning] No further splits with positive gain, best gain: -inf\n",
      "[LightGBM] [Warning] No further splits with positive gain, best gain: -inf\n",
      "[LightGBM] [Warning] No further splits with positive gain, best gain: -inf\n",
      "[LightGBM] [Warning] No further splits with positive gain, best gain: -inf\n",
      "[LightGBM] [Warning] No further splits with positive gain, best gain: -inf\n",
      "[LightGBM] [Warning] No further splits with positive gain, best gain: -inf\n",
      "[LightGBM] [Warning] No further splits with positive gain, best gain: -inf\n",
      "[LightGBM] [Warning] No further splits with positive gain, best gain: -inf\n",
      "[LightGBM] [Warning] No further splits with positive gain, best gain: -inf\n",
      "[LightGBM] [Warning] No further splits with positive gain, best gain: -inf\n",
      "[LightGBM] [Warning] No further splits with positive gain, best gain: -inf\n",
      "[LightGBM] [Warning] No further splits with positive gain, best gain: -inf\n",
      "[LightGBM] [Warning] No further splits with positive gain, best gain: -inf\n",
      "[LightGBM] [Warning] No further splits with positive gain, best gain: -inf\n",
      "[LightGBM] [Warning] No further splits with positive gain, best gain: -inf\n",
      "Early stopping, best iteration is:\n",
      "[56]\tvalid_0's auc: 0.67735\n"
     ]
    },
    {
     "data": {
      "text/html": [
       "<style>#sk-container-id-18 {color: black;background-color: white;}#sk-container-id-18 pre{padding: 0;}#sk-container-id-18 div.sk-toggleable {background-color: white;}#sk-container-id-18 label.sk-toggleable__label {cursor: pointer;display: block;width: 100%;margin-bottom: 0;padding: 0.3em;box-sizing: border-box;text-align: center;}#sk-container-id-18 label.sk-toggleable__label-arrow:before {content: \"▸\";float: left;margin-right: 0.25em;color: #696969;}#sk-container-id-18 label.sk-toggleable__label-arrow:hover:before {color: black;}#sk-container-id-18 div.sk-estimator:hover label.sk-toggleable__label-arrow:before {color: black;}#sk-container-id-18 div.sk-toggleable__content {max-height: 0;max-width: 0;overflow: hidden;text-align: left;background-color: #f0f8ff;}#sk-container-id-18 div.sk-toggleable__content pre {margin: 0.2em;color: black;border-radius: 0.25em;background-color: #f0f8ff;}#sk-container-id-18 input.sk-toggleable__control:checked~div.sk-toggleable__content {max-height: 200px;max-width: 100%;overflow: auto;}#sk-container-id-18 input.sk-toggleable__control:checked~label.sk-toggleable__label-arrow:before {content: \"▾\";}#sk-container-id-18 div.sk-estimator input.sk-toggleable__control:checked~label.sk-toggleable__label {background-color: #d4ebff;}#sk-container-id-18 div.sk-label input.sk-toggleable__control:checked~label.sk-toggleable__label {background-color: #d4ebff;}#sk-container-id-18 input.sk-hidden--visually {border: 0;clip: rect(1px 1px 1px 1px);clip: rect(1px, 1px, 1px, 1px);height: 1px;margin: -1px;overflow: hidden;padding: 0;position: absolute;width: 1px;}#sk-container-id-18 div.sk-estimator {font-family: monospace;background-color: #f0f8ff;border: 1px dotted black;border-radius: 0.25em;box-sizing: border-box;margin-bottom: 0.5em;}#sk-container-id-18 div.sk-estimator:hover {background-color: #d4ebff;}#sk-container-id-18 div.sk-parallel-item::after {content: \"\";width: 100%;border-bottom: 1px solid gray;flex-grow: 1;}#sk-container-id-18 div.sk-label:hover label.sk-toggleable__label {background-color: #d4ebff;}#sk-container-id-18 div.sk-serial::before {content: \"\";position: absolute;border-left: 1px solid gray;box-sizing: border-box;top: 0;bottom: 0;left: 50%;z-index: 0;}#sk-container-id-18 div.sk-serial {display: flex;flex-direction: column;align-items: center;background-color: white;padding-right: 0.2em;padding-left: 0.2em;position: relative;}#sk-container-id-18 div.sk-item {position: relative;z-index: 1;}#sk-container-id-18 div.sk-parallel {display: flex;align-items: stretch;justify-content: center;background-color: white;position: relative;}#sk-container-id-18 div.sk-item::before, #sk-container-id-18 div.sk-parallel-item::before {content: \"\";position: absolute;border-left: 1px solid gray;box-sizing: border-box;top: 0;bottom: 0;left: 50%;z-index: -1;}#sk-container-id-18 div.sk-parallel-item {display: flex;flex-direction: column;z-index: 1;position: relative;background-color: white;}#sk-container-id-18 div.sk-parallel-item:first-child::after {align-self: flex-end;width: 50%;}#sk-container-id-18 div.sk-parallel-item:last-child::after {align-self: flex-start;width: 50%;}#sk-container-id-18 div.sk-parallel-item:only-child::after {width: 0;}#sk-container-id-18 div.sk-dashed-wrapped {border: 1px dashed gray;margin: 0 0.4em 0.5em 0.4em;box-sizing: border-box;padding-bottom: 0.4em;background-color: white;}#sk-container-id-18 div.sk-label label {font-family: monospace;font-weight: bold;display: inline-block;line-height: 1.2em;}#sk-container-id-18 div.sk-label-container {text-align: center;}#sk-container-id-18 div.sk-container {/* jupyter's `normalize.less` sets `[hidden] { display: none; }` but bootstrap.min.css set `[hidden] { display: none !important; }` so we also need the `!important` here to be able to override the default hidden behavior on the sphinx rendered scikit-learn.org. See: https://github.com/scikit-learn/scikit-learn/issues/21755 */display: inline-block !important;position: relative;}#sk-container-id-18 div.sk-text-repr-fallback {display: none;}</style><div id=\"sk-container-id-18\" class=\"sk-top-container\"><div class=\"sk-text-repr-fallback\"><pre>LGBMClassifier(importance_type=&#x27;gain&#x27;, metric=&#x27;auc&#x27;, n_estimators=300,\n",
       "               objective=&#x27;binary&#x27;)</pre><b>In a Jupyter environment, please rerun this cell to show the HTML representation or trust the notebook. <br />On GitHub, the HTML representation is unable to render, please try loading this page with nbviewer.org.</b></div><div class=\"sk-container\" hidden><div class=\"sk-item\"><div class=\"sk-estimator sk-toggleable\"><input class=\"sk-toggleable__control sk-hidden--visually\" id=\"sk-estimator-id-18\" type=\"checkbox\" checked><label for=\"sk-estimator-id-18\" class=\"sk-toggleable__label sk-toggleable__label-arrow\">LGBMClassifier</label><div class=\"sk-toggleable__content\"><pre>LGBMClassifier(importance_type=&#x27;gain&#x27;, metric=&#x27;auc&#x27;, n_estimators=300,\n",
       "               objective=&#x27;binary&#x27;)</pre></div></div></div></div></div>"
      ],
      "text/plain": [
       "LGBMClassifier(importance_type='gain', metric='auc', n_estimators=300,\n",
       "               objective='binary')"
      ]
     },
     "execution_count": 174,
     "metadata": {},
     "output_type": "execute_result"
    }
   ],
   "source": [
    "lgb_mod.fit(X_train,y_train,\n",
    "    eval_set=[(X_test, y_test)],\n",
    "    callbacks=[\n",
    "        lgb.early_stopping(stopping_rounds=50),\n",
    "    ]\n",
    ")"
   ]
  },
  {
   "cell_type": "code",
   "execution_count": 175,
   "id": "ef33ebf4",
   "metadata": {},
   "outputs": [],
   "source": [
    "train_preds = lgb_mod.predict(X_train)"
   ]
  },
  {
   "cell_type": "code",
   "execution_count": 177,
   "id": "55d966f2-b7f5-4327-a58a-7decc7d6d3f4",
   "metadata": {},
   "outputs": [],
   "source": [
    "#lgb feat imp\n",
    "imp_df = pd.DataFrame(sorted(zip(lgb_mod.booster_.feature_importance(importance_type='gain'), X_train.columns)), columns=['Value', 'Feature'])\n",
    "imp_df.sort_values('Value', ascending=False, inplace=True)"
   ]
  },
  {
   "cell_type": "code",
   "execution_count": 178,
   "id": "999ee224",
   "metadata": {},
   "outputs": [
    {
     "data": {
      "image/png": "[encoded data removed]",
      "text/plain": [
       "<Figure size 216x360 with 1 Axes>"
      ]
     },
     "metadata": {
      "needs_background": "light"
     },
     "output_type": "display_data"
    }
   ],
   "source": [
    "fig, ax  = plt.subplots(figsize=(3, 5))\n",
    "\n",
    "ax.barh(imp_df['Feature'], imp_df['Value'])\n",
    "ax.set_yticklabels(imp_df['Feature'])\n",
    "ax.invert_yaxis()\n",
    "ax.set_xlabel('Information Gain')\n",
    "ax.set_title('Feature Importance')\n",
    "plt.show()"
   ]
  },
  {
   "cell_type": "markdown",
   "id": "2af46cbd",
   "metadata": {},
   "source": [
    "Note the above indicates that age was by far the most important variable with gender and diagnosis code being the least important.  Interestingly discharge_note was also influential, I suspect this was due to the target encoding."
   ]
  },
  {
   "cell_type": "code",
   "execution_count": 179,
   "id": "cbf57a35",
   "metadata": {},
   "outputs": [],
   "source": [
    "train_preds = lgb_mod.predict(X_train)\n",
    "test_preds = lgb_mod.predict(X_test)\n",
    "\n",
    "train_preds_proba = lgb_mod.predict_proba(X_train)\n",
    "test_preds_proba = lgb_mod.predict_proba(X_test)"
   ]
  },
  {
   "cell_type": "code",
   "execution_count": 180,
   "id": "7a80fc89",
   "metadata": {},
   "outputs": [
    {
     "data": {
      "image/png": "[encoded data removed]",
      "text/plain": [
       "<Figure size 360x216 with 2 Axes>"
      ]
     },
     "metadata": {
      "needs_background": "light"
     },
     "output_type": "display_data"
    }
   ],
   "source": [
    "fig, ax  = plt.subplots(figsize=(5, 3))\n",
    "\n",
    "sns.heatmap(confusion_matrix(y_train, train_preds), cmap='YlGnBu', fmt='g', annot=True)\n",
    "ax.set_xlabel('Predicted Class')\n",
    "ax.set_ylabel('Actual Class')\n",
    "ax.set_title('Train Confusion Matrix')\n",
    "\n",
    "plt.show()"
   ]
  },
  {
   "cell_type": "code",
   "execution_count": 181,
   "id": "58933447",
   "metadata": {},
   "outputs": [
    {
     "data": {
      "image/png": "[encoded data removed]",
      "text/plain": [
       "<Figure size 360x216 with 2 Axes>"
      ]
     },
     "metadata": {
      "needs_background": "light"
     },
     "output_type": "display_data"
    }
   ],
   "source": [
    "fig, ax  = plt.subplots(figsize=(5, 3))\n",
    "\n",
    "sns.heatmap(confusion_matrix(y_test, test_preds), cmap='YlGnBu', fmt='g', annot=True)\n",
    "ax.set_xlabel('Predicted Class')\n",
    "ax.set_ylabel('Actual Class')\n",
    "ax.set_title('Test Confusion Matrix')\n",
    "\n",
    "plt.show()"
   ]
  },
  {
   "cell_type": "code",
   "execution_count": 182,
   "id": "4a8617c4",
   "metadata": {},
   "outputs": [
    {
     "name": "stdout",
     "output_type": "stream",
     "text": [
      "Train Classification Report\n",
      "              precision    recall  f1-score   support\n",
      "\n",
      "           0       0.81      0.90      0.85        83\n",
      "           1       0.78      0.62      0.69        47\n",
      "\n",
      "    accuracy                           0.80       130\n",
      "   macro avg       0.80      0.76      0.77       130\n",
      "weighted avg       0.80      0.80      0.79       130\n",
      "\n"
     ]
    }
   ],
   "source": [
    "print('Train Classification Report')\n",
    "print(classification_report(y_train, train_preds))"
   ]
  },
  {
   "cell_type": "code",
   "execution_count": 183,
   "id": "34af5577",
   "metadata": {},
   "outputs": [
    {
     "name": "stdout",
     "output_type": "stream",
     "text": [
      "Test Classification Report\n",
      "              precision    recall  f1-score   support\n",
      "\n",
      "           0       0.77      0.92      0.84        52\n",
      "           1       0.50      0.22      0.31        18\n",
      "\n",
      "    accuracy                           0.74        70\n",
      "   macro avg       0.64      0.57      0.57        70\n",
      "weighted avg       0.70      0.74      0.70        70\n",
      "\n"
     ]
    }
   ],
   "source": [
    "print('Test Classification Report')\n",
    "print(classification_report(y_test, test_preds))"
   ]
  },
  {
   "cell_type": "code",
   "execution_count": 184,
   "id": "8755c8e1",
   "metadata": {},
   "outputs": [],
   "source": [
    "#Bringing in some ROC/PR curve tools I built earlier - note I would usually have this kind of thing in a .py file and import\n",
    "#However I wanted everything in this exercise to be a self-contained notebook\n",
    "def plot_roc_curve(y_true, y_score, y_label, title):\n",
    "    plt.figure(figsize=(15, 10))\n",
    "    \n",
    "    fpr, tpr, thresholds = roc_curve(y_true, y_score, pos_label=1)\n",
    "    \n",
    "    plt.plot(fpr, tpr, lw=2, label ='ROC curve %s (area=%0.2f)' % (y_label, auc(fpr, tpr)))\n",
    "    plt.plot([0, 1], [0, 1], color='navy', lw=2, linestyle='--')\n",
    "    plt.xlim([0.0, 1.0])\n",
    "    plt.ylim([0.0, 1.05])\n",
    "    plt.xlabel('False Positive Rate')\n",
    "    plt.ylabel('True Positive Rate')\n",
    "    plt.title(title)\n",
    "    plt.legend(loc='lower right')\n",
    "    \n",
    "    plt.show()\n",
    "\n",
    "def plot_pr_curve(y_true, y_score, y_label, title):\n",
    "    plt.figure(figsize=(15, 10))\n",
    "    \n",
    "    prec, recall, thresholds = precision_recall_curve(y_true, y_score, pos_label=1)\n",
    "    \n",
    "    plt.plot(recall, prec, lw=2, label ='Average Precision %s (average_precision=%0.2f)' % (y_label, average_precision_score(y_true, y_score)))\n",
    "    plt.plot([0, 0], [0, 1], color='navy', lw=2, linestyle='--')\n",
    "    plt.xlim([0.0, 1.0])\n",
    "    plt.ylim([0.0, 1.05])\n",
    "    plt.xlabel('Recall')\n",
    "    plt.ylabel('Precision')\n",
    "    plt.title(title)\n",
    "    plt.legend(loc='lower right')\n",
    "    \n",
    "    plt.show()\n",
    "    "
   ]
  },
  {
   "cell_type": "code",
   "execution_count": 185,
   "id": "af7bca06",
   "metadata": {},
   "outputs": [
    {
     "data": {
      "image/png": "[encoded data removed]",
      "text/plain": [
       "<Figure size 1080x720 with 1 Axes>"
      ]
     },
     "metadata": {
      "needs_background": "light"
     },
     "output_type": "display_data"
    }
   ],
   "source": [
    "plot_roc_curve(y_train, train_preds_proba[:,1], 'Train Predictions', 'Train Data ROC Curve')"
   ]
  },
  {
   "cell_type": "code",
   "execution_count": 186,
   "id": "3931df5f",
   "metadata": {},
   "outputs": [
    {
     "data": {
      "image/png": "[encoded data removed]",
      "text/plain": [
       "<Figure size 1080x720 with 1 Axes>"
      ]
     },
     "metadata": {
      "needs_background": "light"
     },
     "output_type": "display_data"
    }
   ],
   "source": [
    "plot_roc_curve(y_test, test_preds_proba[:, 1], 'Test Predictions', 'Test Data ROC Curve')"
   ]
  },
  {
   "cell_type": "code",
   "execution_count": 187,
   "id": "4581465b",
   "metadata": {},
   "outputs": [
    {
     "data": {
      "image/png": "[encoded data removed]",
      "text/plain": [
       "<Figure size 1080x720 with 1 Axes>"
      ]
     },
     "metadata": {
      "needs_background": "light"
     },
     "output_type": "display_data"
    }
   ],
   "source": [
    "plot_pr_curve(y_train, train_preds_proba[:,1], 'Train Predictions', 'Train Data PR Curve')"
   ]
  },
  {
   "cell_type": "code",
   "execution_count": 188,
   "id": "1473df36",
   "metadata": {},
   "outputs": [
    {
     "data": {
      "image/png": "[encoded data removed]",
      "text/plain": [
       "<Figure size 1080x720 with 1 Axes>"
      ]
     },
     "metadata": {
      "needs_background": "light"
     },
     "output_type": "display_data"
    }
   ],
   "source": [
    "plot_pr_curve(y_test, test_preds_proba[:, 1], 'Test Predictions', 'Test Data PR Curve')"
   ]
  },
  {
   "cell_type": "markdown",
   "id": "787c0190",
   "metadata": {},
   "source": [
    "Note that the above charts indicate the model is heavily overfit on the train data (not unexpected) but has atrocious out of sample performance, in fact the ROC curve being 0.68 indicates the performance is slightly better than randomly guessing.\n",
    "\n",
    "Having tried a few different parameters, I think that getting good out of sample performance isn't really possible without significantly more data.\n",
    "\n",
    "The above is about the best I was able to obtain for the time being, future areas I would explore are things like polynomial features and adding bayesian optimisation for hyperparameter tuning.  However if this was a real world project I would insist upon getting more data as I feel that getting any kind of generalizable results are impossible without significantly more data.\n",
    "\n",
    "Also it is worth noting that the target encoding for the discharge_notes is a significant data leakage risk for productionalization because there are only 10 distinct values therefore I chose to treat this variable as a categorical variable, however given the low volume of data each unique value represents 5% of the overall data.  This is an issue because I used a 35/65 train test split, therefore the test set very likely has entire categories that do not appear in the train data, therefore their encoding is essentially voided due to target leakage.  However, due to the poor model performance due to lack of data I would argue this is an acceptable risk as the benefits outweight the issues if we assume that this can be rectified with more data, assuming the notes fit into the currently defined categories.\n",
    "\n",
    "If not however then I would use my initial idea of creating features based on keywords, or of course using an LLM for named entity extraction as below."
   ]
  },
  {
   "cell_type": "markdown",
   "id": "9e44a0cc-e268-40c7-a6ef-414ff7ecf456",
   "metadata": {},
   "source": [
    "### Task 4 - Named Entity Extraction\n",
    "\n",
    "For this I'm going to first do some simple data preperation and manually label the data as looking online the prebuilt NER models are for identifying people or geographical locations or organizations as opposed to medical symptoms or medications."
   ]
  },
  {
   "cell_type": "code",
   "execution_count": 299,
   "id": "6368893d-1498-49f3-81d5-502a3d750677",
   "metadata": {},
   "outputs": [],
   "source": [
    "from transformers import AutoTokenizer, AutoModelForTokenClassification, BertForTokenClassification, BertTokenizerFast\n",
    "from transformers import pipeline\n",
    "\n",
    "import torch\n",
    "from torch.utils.data import Dataset, DataLoader"
   ]
  },
  {
   "cell_type": "code",
   "execution_count": 263,
   "id": "b94fc9a1-8caf-4e2f-947d-62a2889ea359",
   "metadata": {},
   "outputs": [],
   "source": [
    "#First convert everything to lower case and remove punctuation\n",
    "l_notes = []\n",
    "l_notes_splt = []\n",
    "for n in uniq_notes:\n",
    "    low = n.lower()\n",
    "    low = low.translate(str.maketrans('', '', string.punctuation))\n",
    "    l_notes.append(low)\n",
    "    splt = low.split()\n",
    "    l_notes_splt.append(splt)"
   ]
  },
  {
   "cell_type": "code",
   "execution_count": 243,
   "id": "abd5d512-81c7-4639-96a5-9da48dc8406b",
   "metadata": {},
   "outputs": [],
   "source": [
    "new_med_dict = {\n",
    "    'O' : 'Outside of a named entity',\n",
    "    'TRT' : 'Treatment',\n",
    "    'DGN' : 'Diagnosis',\n",
    "    'SYM' : 'Symptom',\n",
    "    'FOL' : 'Follow-up Action',\n",
    "    'MED' : 'Medication'\n",
    "}"
   ]
  },
  {
   "cell_type": "code",
   "execution_count": 244,
   "id": "2e8e8156-6082-4239-94af-e2a8800911ff",
   "metadata": {},
   "outputs": [],
   "source": [
    "#Create lookup dictionaries to convert to encoding for use in model\n",
    "labels_to_ids = {}\n",
    "ids_to_labels = {}\n",
    "\n",
    "lab_lst = list(new_med_dict.keys())\n",
    "for i in range(len(lab_lst)):\n",
    "    labels_to_ids[lab_lst[i]] = i\n",
    "    ids_to_labels[i] = lab_lst[i]"
   ]
  },
  {
   "cell_type": "code",
   "execution_count": 245,
   "id": "1986efef-49ee-4411-a013-8fde8d94c121",
   "metadata": {},
   "outputs": [
    {
     "data": {
      "text/plain": [
       "{'O': 0, 'TRT': 1, 'DGN': 2, 'SYM': 3, 'FOL': 4, 'MED': 5}"
      ]
     },
     "execution_count": 245,
     "metadata": {},
     "output_type": "execute_result"
    }
   ],
   "source": [
    "labels_to_ids"
   ]
  },
  {
   "cell_type": "code",
   "execution_count": 246,
   "id": "d230c694-3710-4efc-8d81-55447d1571ef",
   "metadata": {},
   "outputs": [
    {
     "data": {
      "text/plain": [
       "{0: 'O', 1: 'TRT', 2: 'DGN', 3: 'SYM', 4: 'FOL', 5: 'MED'}"
      ]
     },
     "execution_count": 246,
     "metadata": {},
     "output_type": "execute_result"
    }
   ],
   "source": [
    "ids_to_labels"
   ]
  },
  {
   "cell_type": "code",
   "execution_count": 247,
   "id": "02824dac-407e-47f8-a300-e99f9bfeab0c",
   "metadata": {},
   "outputs": [],
   "source": [
    "#Note I used this cell to cycle through the notes to get the inital ideas and then fixed them later\n",
    "#l_notes[9]"
   ]
  },
  {
   "cell_type": "code",
   "execution_count": 476,
   "id": "aa654c14",
   "metadata": {},
   "outputs": [],
   "source": [
    "#Manually labelling data\n",
    "label0 = ['O', 'O', 'O', 'O', 'FOL', 'FOL','FOL', 'O', 'O', 'O'] \n",
    "label1 = ['O', 'O', 'O', 'TRT', 'TRT', 'O','O', 'FOL', 'FOL', 'FOL', 'FOL', 'FOL']\n",
    "label2 = ['O','SYM', 'DGN','FOL', 'O', 'O','O']\n",
    "label3 = ['O', 'O', 'O', 'DGN', 'O', 'SYM','O', 'O', 'O']\n",
    "label4 = ['O', 'O', 'O', 'O', 'DGN', 'O','O', 'FOL', 'FOL','FOL', 'FOL', 'FOL']\n",
    "label5 = ['O', 'O', 'O', 'DGN', 'O', 'MED','O', 'FOL', 'FOL']\n",
    "label6 = ['O', 'O', 'O', 'O', 'O', 'FOL','O', 'MED']\n",
    "label7 = ['O', 'O', 'O', 'O', 'O', 'SYM','O', 'FOL', 'O', 'FOL', 'FOL']\n",
    "label8 = ['O', 'O', 'O', 'O', 'O', 'SYM','O', 'O','FOL','O', 'FOL']\n",
    "label9 = ['O', 'O', 'SYM', 'O', 'MED', 'O','O', 'MED', 'O']\n",
    "\n",
    "\n",
    "label_lst = [label0, label1, label2, label3, label4, label5, label6, label7, label8, label9]"
   ]
  },
  {
   "cell_type": "code",
   "execution_count": 477,
   "id": "78581c39-44af-493a-8b84-f7e04befbf77",
   "metadata": {},
   "outputs": [],
   "source": [
    "#Convert labels to numeric\n",
    "label_lst_num = []\n",
    "\n",
    "for lst in label_lst:\n",
    "    append_lst = []\n",
    "    for lab in lst:\n",
    "        append_lst.append(labels_to_ids[lab])\n",
    "\n",
    "    label_lst_num.append(append_lst)"
   ]
  },
  {
   "cell_type": "code",
   "execution_count": 478,
   "id": "fbacbf24-b9a1-4dc5-ade2-ef4856eeeece",
   "metadata": {},
   "outputs": [],
   "source": [
    "#Import tokenizer\n",
    "tokenizer = BertTokenizerFast.from_pretrained('bert-base-uncased')"
   ]
  },
  {
   "cell_type": "markdown",
   "id": "4add1752-1c5a-4603-91db-28da0937082d",
   "metadata": {},
   "source": [
    "Note I am manually labelling the data here as there's only a small amount so its not too bad.  In the real world I would still manually label a subset of the data but only a small fraction,  I would fine tune periodically to see if the model is somewhat performative and iteratively proceed as to minimize the time spent manually labelling data.  Also the labelling here is done purely on my own judgement, I would definitely consult a medical professional to get their opinions on the labels before using them in a live system.\n",
    "\n",
    "In an ideal world I would simply have the data pre-labelled for me, or use some kind of medical dictionary to do keyword lookups and such."
   ]
  },
  {
   "cell_type": "code",
   "execution_count": 479,
   "id": "9f6ba374-cc5f-45bc-810d-3c23d6ac7418",
   "metadata": {},
   "outputs": [],
   "source": [
    "#Convert to pytorch dataset for use in training - just modified some code I found online for this\n",
    "class dataset(Dataset):\n",
    "  def __init__(self,note_lst, lab_lst , tokenizer, max_len=16):\n",
    "        self.len = len(note_lst)\n",
    "        self.data = note_lst\n",
    "        self.labels = lab_lst\n",
    "        self.tokenizer = tokenizer\n",
    "        self.max_len = max_len\n",
    "\n",
    "  def __getitem__(self, index):\n",
    "        sentence = self.data[index]\n",
    "        sentance_label = self.labels[index]\n",
    "\n",
    "      \n",
    "        #Encode sentance with tokenizer\n",
    "        encoding = self.tokenizer(sentence,\n",
    "                             return_offsets_mapping=True, \n",
    "                             padding='max_length', \n",
    "                             truncation=False, \n",
    "                             max_length=self.max_len)\n",
    "\n",
    "        encoded_labels = np.ones(len(encoding[\"offset_mapping\"]), dtype=int) * -100\n",
    "\n",
    "        for i in range(len(encoded_labels)):\n",
    "            if i < len(sentance_label):\n",
    "                if sentance_label[i] == 0:\n",
    "                    encoded_labels[i] == -100\n",
    "                else :\n",
    "                    encoded_labels[i] = sentance_label[i]\n",
    "\n",
    "        #Convert to pytorch tensor\n",
    "        item = {key: torch.as_tensor(val) for key, val in encoding.items()}\n",
    "        item['labels'] = torch.as_tensor(encoded_labels)\n",
    "        \n",
    "        return item\n",
    "\n",
    "  def __len__(self):\n",
    "        return self.len"
   ]
  },
  {
   "cell_type": "code",
   "execution_count": 480,
   "id": "8845081f-5f1d-4081-89fc-6f6a3855095a",
   "metadata": {},
   "outputs": [],
   "source": [
    "training_set = dataset(l_notes,label_lst_num, tokenizer)"
   ]
  },
  {
   "cell_type": "code",
   "execution_count": 489,
   "id": "d95439c8-fc32-4bb2-ac59-e33febe7274e",
   "metadata": {},
   "outputs": [],
   "source": [
    "#Use this to cycle through all the data to check the labels are aligned correctly\n",
    "id_to_check = 0"
   ]
  },
  {
   "cell_type": "code",
   "execution_count": 490,
   "id": "366d845e-bdaa-42b5-a083-2e423a9d07ac",
   "metadata": {},
   "outputs": [
    {
     "data": {
      "text/plain": [
       "{'input_ids': tensor([  101,  2204,  7233, 22793,  3582,  6279, 13594,  5115,  2279,  3204,\n",
       "           102,     0,     0,     0,     0,     0]),\n",
       " 'token_type_ids': tensor([0, 0, 0, 0, 0, 0, 0, 0, 0, 0, 0, 0, 0, 0, 0, 0]),\n",
       " 'attention_mask': tensor([1, 1, 1, 1, 1, 1, 1, 1, 1, 1, 1, 0, 0, 0, 0, 0]),\n",
       " 'offset_mapping': tensor([[ 0,  0],\n",
       "         [ 0,  4],\n",
       "         [ 5, 13],\n",
       "         [14, 24],\n",
       "         [25, 31],\n",
       "         [31, 33],\n",
       "         [34, 38],\n",
       "         [39, 48],\n",
       "         [49, 53],\n",
       "         [54, 59],\n",
       "         [ 0,  0],\n",
       "         [ 0,  0],\n",
       "         [ 0,  0],\n",
       "         [ 0,  0],\n",
       "         [ 0,  0],\n",
       "         [ 0,  0]]),\n",
       " 'labels': tensor([-100, -100, -100, -100,    4,    4,    4, -100, -100, -100, -100, -100,\n",
       "         -100, -100, -100, -100])}"
      ]
     },
     "execution_count": 490,
     "metadata": {},
     "output_type": "execute_result"
    }
   ],
   "source": [
    "#Look at whole input data\n",
    "training_set.__getitem__(id_to_check)"
   ]
  },
  {
   "cell_type": "code",
   "execution_count": 491,
   "id": "2f644542-448e-4c80-8b2f-5385a0193745",
   "metadata": {},
   "outputs": [
    {
     "data": {
      "text/plain": [
       "torch.Size([16])"
      ]
     },
     "execution_count": 491,
     "metadata": {},
     "output_type": "execute_result"
    }
   ],
   "source": [
    "#Some additional verification for debugging - I used this to check all the dimensionality was consistent\n",
    "#training_set.__getitem__(id_to_check)['attention_mask'].shape"
   ]
  },
  {
   "cell_type": "code",
   "execution_count": 492,
   "id": "409504a9-aa1b-4fbe-83d0-7c3d1e68b482",
   "metadata": {},
   "outputs": [
    {
     "name": "stdout",
     "output_type": "stream",
     "text": [
      "[CLS]       -100\n",
      "good        -100\n",
      "recovery    -100\n",
      "trajectory  -100\n",
      "follow      4\n",
      "##up        4\n",
      "scan        4\n",
      "scheduled   -100\n",
      "next        -100\n",
      "month       -100\n",
      "[SEP]       -100\n",
      "[PAD]       -100\n",
      "[PAD]       -100\n",
      "[PAD]       -100\n",
      "[PAD]       -100\n",
      "[PAD]       -100\n"
     ]
    }
   ],
   "source": [
    "#Bert decided to split up words a whole bunch so going and manually fixing the labels\n",
    "for token, label in zip(tokenizer.convert_ids_to_tokens(training_set[id_to_check][\"input_ids\"]), training_set[id_to_check][\"labels\"]):\n",
    "  print('{0:10}  {1}'.format(token, label))"
   ]
  },
  {
   "cell_type": "code",
   "execution_count": 580,
   "id": "3cb6631f-945a-47f4-9531-c0d09f9c9050",
   "metadata": {},
   "outputs": [],
   "source": [
    "#Just guesstimated learning rate here, typically I use between 1e-3 and 1e-6 for NNs depending on model\n",
    "#Given this is an LLM fine tune I'm starting small as its not starting from a random state\n",
    "optimizer = torch.optim.Adam(params=model.parameters(), lr=1e-4)"
   ]
  },
  {
   "cell_type": "code",
   "execution_count": 581,
   "id": "ff10b847-da59-41b1-bd13-0e8a33c492e4",
   "metadata": {},
   "outputs": [],
   "source": [
    "training_loader = DataLoader(training_set, batch_size=2)"
   ]
  },
  {
   "cell_type": "code",
   "execution_count": 582,
   "id": "9941e1c0-0206-4409-a2ad-50b1c505b2cf",
   "metadata": {},
   "outputs": [
    {
     "name": "stderr",
     "output_type": "stream",
     "text": [
      "Some weights of BertForTokenClassification were not initialized from the model checkpoint at bert-base-uncased and are newly initialized: ['classifier.bias', 'classifier.weight']\n",
      "You should probably TRAIN this model on a down-stream task to be able to use it for predictions and inference.\n"
     ]
    }
   ],
   "source": [
    "model = BertForTokenClassification.from_pretrained('bert-base-uncased', num_labels=len(labels_to_ids))"
   ]
  },
  {
   "cell_type": "code",
   "execution_count": 583,
   "id": "8b3d15b3-b8de-4310-a7e4-939183306980",
   "metadata": {},
   "outputs": [],
   "source": [
    "#Grabbing training function I found online for training a NER model - Note I did have to modify this a bit to get it to work\n",
    "def train(epoch):\n",
    "    tr_loss, tr_accuracy = 0, 0\n",
    "    nb_tr_examples, nb_tr_steps = 0, 0\n",
    "    tr_preds, tr_labels = [], []\n",
    "    # put model in training mode\n",
    "    model.train()\n",
    "    \n",
    "    for idx, batch in enumerate(training_loader):\n",
    "        ids = batch['input_ids']\n",
    "        mask = batch['attention_mask']\n",
    "        labels = batch['labels']\n",
    "\n",
    "        outputs = model(input_ids=ids, attention_mask=mask, labels=labels)\n",
    "        \n",
    "        tr_logits = outputs['logits']\n",
    "        loss = outputs['loss']\n",
    "        tr_loss += loss.item()\n",
    "\n",
    "        nb_tr_steps += 1\n",
    "        nb_tr_examples += labels.size(0)\n",
    "           \n",
    "        # compute training accuracy\n",
    "        flattened_targets = labels.view(-1) # shape (batch_size * seq_len,)\n",
    "        active_logits = tr_logits.view(-1, model.num_labels) # shape (batch_size * seq_len, num_labels)\n",
    "        flattened_predictions = torch.argmax(active_logits, axis=1) # shape (batch_size * seq_len,)\n",
    "        \n",
    "        # only compute accuracy at active labels\n",
    "        active_accuracy = labels.view(-1) != -100 # shape (batch_size, seq_len)\n",
    "        #active_labels = torch.where(active_accuracy, labels.view(-1), torch.tensor(-100).type_as(labels))\n",
    "        \n",
    "        labels = torch.masked_select(flattened_targets, active_accuracy)\n",
    "        predictions = torch.masked_select(flattened_predictions, active_accuracy)\n",
    "        \n",
    "        tr_labels.extend(labels)\n",
    "        tr_preds.extend(predictions)\n",
    "    \n",
    "        # gradient clipping\n",
    "        torch.nn.utils.clip_grad_norm_(\n",
    "            parameters=model.parameters(), max_norm=10\n",
    "        )\n",
    "        \n",
    "        # backward pass\n",
    "        optimizer.zero_grad()\n",
    "        loss.backward()\n",
    "        optimizer.step()\n",
    "\n",
    "    epoch_loss = tr_loss / nb_tr_steps\n",
    "    print(f\"Training loss epoch: {epoch_loss}\")"
   ]
  },
  {
   "cell_type": "code",
   "execution_count": 584,
   "id": "627c99a7-e8ae-4111-8fe6-871cd2cd50db",
   "metadata": {
    "scrolled": true
   },
   "outputs": [
    {
     "name": "stdout",
     "output_type": "stream",
     "text": [
      "Training epoch: 1\n",
      "Training loss epoch: 1.818818712234497\n",
      "Training epoch: 2\n",
      "Training loss epoch: 1.873989748954773\n",
      "Training epoch: 3\n",
      "Training loss epoch: 1.8796255826950072\n",
      "Training epoch: 4\n",
      "Training loss epoch: 1.8743985652923585\n",
      "Training epoch: 5\n",
      "Training loss epoch: 1.890501618385315\n",
      "Training epoch: 6\n",
      "Training loss epoch: 1.849332904815674\n",
      "Training epoch: 7\n",
      "Training loss epoch: 1.8125404596328736\n",
      "Training epoch: 8\n",
      "Training loss epoch: 1.854638409614563\n",
      "Training epoch: 9\n",
      "Training loss epoch: 1.8824555635452271\n",
      "Training epoch: 10\n",
      "Training loss epoch: 1.9031834840774535\n",
      "Training epoch: 11\n",
      "Training loss epoch: 1.8747788667678833\n",
      "Training epoch: 12\n",
      "Training loss epoch: 1.933925724029541\n",
      "Training epoch: 13\n",
      "Training loss epoch: 1.8251541137695313\n",
      "Training epoch: 14\n",
      "Training loss epoch: 1.86169273853302\n",
      "Training epoch: 15\n",
      "Training loss epoch: 1.849676775932312\n",
      "Training epoch: 16\n",
      "Training loss epoch: 1.876552414894104\n",
      "Training epoch: 17\n",
      "Training loss epoch: 1.816976046562195\n",
      "Training epoch: 18\n",
      "Training loss epoch: 1.847242045402527\n",
      "Training epoch: 19\n",
      "Training loss epoch: 1.8956337451934815\n",
      "Training epoch: 20\n",
      "Training loss epoch: 1.8686650037765502\n",
      "Training epoch: 21\n",
      "Training loss epoch: 1.8980955839157105\n",
      "Training epoch: 22\n",
      "Training loss epoch: 1.8800063133239746\n",
      "Training epoch: 23\n",
      "Training loss epoch: 1.8740492582321167\n",
      "Training epoch: 24\n",
      "Training loss epoch: 1.8892582416534425\n",
      "Training epoch: 25\n",
      "Training loss epoch: 1.891644024848938\n",
      "Training epoch: 26\n",
      "Training loss epoch: 1.8336490392684937\n",
      "Training epoch: 27\n",
      "Training loss epoch: 1.8470054626464845\n",
      "Training epoch: 28\n",
      "Training loss epoch: 1.8808629035949707\n",
      "Training epoch: 29\n",
      "Training loss epoch: 1.8841327667236327\n",
      "Training epoch: 30\n",
      "Training loss epoch: 1.8646006345748902\n",
      "Training epoch: 31\n",
      "Training loss epoch: 1.860599660873413\n",
      "Training epoch: 32\n",
      "Training loss epoch: 1.846874213218689\n",
      "Training epoch: 33\n",
      "Training loss epoch: 1.8834556102752686\n",
      "Training epoch: 34\n",
      "Training loss epoch: 1.8467375040054321\n",
      "Training epoch: 35\n",
      "Training loss epoch: 1.8711079597473144\n",
      "Training epoch: 36\n",
      "Training loss epoch: 1.8550410747528077\n",
      "Training epoch: 37\n",
      "Training loss epoch: 1.8893344163894654\n",
      "Training epoch: 38\n",
      "Training loss epoch: 1.8841426849365235\n",
      "Training epoch: 39\n",
      "Training loss epoch: 1.8234315633773803\n",
      "Training epoch: 40\n",
      "Training loss epoch: 1.8571866035461426\n",
      "Training epoch: 41\n",
      "Training loss epoch: 1.8943715333938598\n",
      "Training epoch: 42\n",
      "Training loss epoch: 1.883833885192871\n",
      "Training epoch: 43\n",
      "Training loss epoch: 1.904041337966919\n",
      "Training epoch: 44\n",
      "Training loss epoch: 1.8483370065689086\n",
      "Training epoch: 45\n",
      "Training loss epoch: 1.9097012281417847\n",
      "Training epoch: 46\n",
      "Training loss epoch: 1.868176817893982\n",
      "Training epoch: 47\n",
      "Training loss epoch: 1.8510557651519775\n",
      "Training epoch: 48\n",
      "Training loss epoch: 1.8806635379791259\n",
      "Training epoch: 49\n",
      "Training loss epoch: 1.858683180809021\n",
      "Training epoch: 50\n",
      "Training loss epoch: 1.8671935558319093\n",
      "Training epoch: 51\n",
      "Training loss epoch: 1.8424938440322876\n",
      "Training epoch: 52\n",
      "Training loss epoch: 1.8979535579681397\n",
      "Training epoch: 53\n",
      "Training loss epoch: 1.9076513290405273\n",
      "Training epoch: 54\n",
      "Training loss epoch: 1.8571319818496703\n",
      "Training epoch: 55\n",
      "Training loss epoch: 1.8622234344482422\n",
      "Training epoch: 56\n",
      "Training loss epoch: 1.8337016105651855\n",
      "Training epoch: 57\n",
      "Training loss epoch: 1.8678310632705688\n",
      "Training epoch: 58\n",
      "Training loss epoch: 1.861404013633728\n",
      "Training epoch: 59\n",
      "Training loss epoch: 1.87637300491333\n",
      "Training epoch: 60\n",
      "Training loss epoch: 1.8653483629226684\n",
      "Training epoch: 61\n",
      "Training loss epoch: 1.8346081972122192\n",
      "Training epoch: 62\n",
      "Training loss epoch: 1.8602701425552368\n",
      "Training epoch: 63\n",
      "Training loss epoch: 1.8482097387313843\n",
      "Training epoch: 64\n",
      "Training loss epoch: 1.8399114847183227\n",
      "Training epoch: 65\n",
      "Training loss epoch: 1.878002667427063\n",
      "Training epoch: 66\n",
      "Training loss epoch: 1.8580864906311034\n",
      "Training epoch: 67\n",
      "Training loss epoch: 1.8738534927368165\n",
      "Training epoch: 68\n",
      "Training loss epoch: 1.8803139925003052\n",
      "Training epoch: 69\n",
      "Training loss epoch: 1.8686647891998291\n",
      "Training epoch: 70\n",
      "Training loss epoch: 1.8652881145477296\n",
      "Training epoch: 71\n",
      "Training loss epoch: 1.8817720651626586\n",
      "Training epoch: 72\n",
      "Training loss epoch: 1.8956974744796753\n",
      "Training epoch: 73\n",
      "Training loss epoch: 1.839838433265686\n",
      "Training epoch: 74\n",
      "Training loss epoch: 1.8769208431243896\n",
      "Training epoch: 75\n",
      "Training loss epoch: 1.9093072891235352\n",
      "Training epoch: 76\n",
      "Training loss epoch: 1.8940666913986206\n",
      "Training epoch: 77\n",
      "Training loss epoch: 1.8602258443832398\n",
      "Training epoch: 78\n",
      "Training loss epoch: 1.8465261697769164\n",
      "Training epoch: 79\n",
      "Training loss epoch: 1.8542543172836303\n",
      "Training epoch: 80\n",
      "Training loss epoch: 1.8372632265090942\n",
      "Training epoch: 81\n",
      "Training loss epoch: 1.8822581052780152\n",
      "Training epoch: 82\n",
      "Training loss epoch: 1.8885908603668213\n",
      "Training epoch: 83\n",
      "Training loss epoch: 1.8361562490463257\n",
      "Training epoch: 84\n",
      "Training loss epoch: 1.8851519584655763\n",
      "Training epoch: 85\n",
      "Training loss epoch: 1.8824200630187988\n",
      "Training epoch: 86\n",
      "Training loss epoch: 1.8081246376037599\n",
      "Training epoch: 87\n",
      "Training loss epoch: 1.8396485328674317\n",
      "Training epoch: 88\n",
      "Training loss epoch: 1.8534579515457152\n",
      "Training epoch: 89\n",
      "Training loss epoch: 1.8530096769332887\n",
      "Training epoch: 90\n",
      "Training loss epoch: 1.8713773965835572\n",
      "Training epoch: 91\n",
      "Training loss epoch: 1.8559512138366698\n",
      "Training epoch: 92\n",
      "Training loss epoch: 1.8724266767501831\n",
      "Training epoch: 93\n",
      "Training loss epoch: 1.8749548196792603\n",
      "Training epoch: 94\n",
      "Training loss epoch: 1.8508156061172485\n",
      "Training epoch: 95\n",
      "Training loss epoch: 1.8341079235076905\n",
      "Training epoch: 96\n",
      "Training loss epoch: 1.842853045463562\n",
      "Training epoch: 97\n",
      "Training loss epoch: 1.838898253440857\n",
      "Training epoch: 98\n",
      "Training loss epoch: 1.8423290967941284\n",
      "Training epoch: 99\n",
      "Training loss epoch: 1.8814257621765136\n",
      "Training epoch: 100\n",
      "Training loss epoch: 1.8402856826782226\n",
      "Training epoch: 101\n",
      "Training loss epoch: 1.8816277503967285\n",
      "Training epoch: 102\n",
      "Training loss epoch: 1.8210816383361816\n",
      "Training epoch: 103\n",
      "Training loss epoch: 1.8795856952667236\n",
      "Training epoch: 104\n",
      "Training loss epoch: 1.8682797431945801\n",
      "Training epoch: 105\n",
      "Training loss epoch: 1.8593928575515748\n",
      "Training epoch: 106\n",
      "Training loss epoch: 1.8705230236053467\n",
      "Training epoch: 107\n",
      "Training loss epoch: 1.8513561964035035\n",
      "Training epoch: 108\n",
      "Training loss epoch: 1.8741502046585083\n",
      "Training epoch: 109\n",
      "Training loss epoch: 1.8753801584243774\n",
      "Training epoch: 110\n",
      "Training loss epoch: 1.8580730676651\n",
      "Training epoch: 111\n",
      "Training loss epoch: 1.8348249435424804\n",
      "Training epoch: 112\n",
      "Training loss epoch: 1.8753670692443847\n",
      "Training epoch: 113\n",
      "Training loss epoch: 1.9138283014297486\n",
      "Training epoch: 114\n",
      "Training loss epoch: 1.8822440385818482\n",
      "Training epoch: 115\n",
      "Training loss epoch: 1.8697965383529662\n",
      "Training epoch: 116\n",
      "Training loss epoch: 1.8970179796218871\n",
      "Training epoch: 117\n",
      "Training loss epoch: 1.8879138469696044\n",
      "Training epoch: 118\n",
      "Training loss epoch: 1.8815552711486816\n",
      "Training epoch: 119\n",
      "Training loss epoch: 1.8244499206542968\n",
      "Training epoch: 120\n",
      "Training loss epoch: 1.8567434787750243\n",
      "Training epoch: 121\n",
      "Training loss epoch: 1.853163194656372\n",
      "Training epoch: 122\n",
      "Training loss epoch: 1.849810814857483\n",
      "Training epoch: 123\n",
      "Training loss epoch: 1.8533702850341798\n",
      "Training epoch: 124\n",
      "Training loss epoch: 1.9390869617462159\n",
      "Training epoch: 125\n",
      "Training loss epoch: 1.858658456802368\n",
      "Training epoch: 126\n",
      "Training loss epoch: 1.9066869258880614\n",
      "Training epoch: 127\n",
      "Training loss epoch: 1.901043701171875\n",
      "Training epoch: 128\n",
      "Training loss epoch: 1.8109941005706787\n",
      "Training epoch: 129\n",
      "Training loss epoch: 1.8568378925323485\n",
      "Training epoch: 130\n",
      "Training loss epoch: 1.8860488414764405\n",
      "Training epoch: 131\n",
      "Training loss epoch: 1.8456949949264527\n",
      "Training epoch: 132\n",
      "Training loss epoch: 1.8656299591064454\n",
      "Training epoch: 133\n",
      "Training loss epoch: 1.8090383768081666\n",
      "Training epoch: 134\n",
      "Training loss epoch: 1.8610095739364625\n",
      "Training epoch: 135\n",
      "Training loss epoch: 1.8806354761123658\n",
      "Training epoch: 136\n",
      "Training loss epoch: 1.8575302600860595\n",
      "Training epoch: 137\n",
      "Training loss epoch: 1.8488942861557007\n",
      "Training epoch: 138\n",
      "Training loss epoch: 1.8583244800567627\n",
      "Training epoch: 139\n",
      "Training loss epoch: 1.8745333194732665\n",
      "Training epoch: 140\n",
      "Training loss epoch: 1.8904747724533082\n",
      "Training epoch: 141\n",
      "Training loss epoch: 1.8620224952697755\n",
      "Training epoch: 142\n",
      "Training loss epoch: 1.843575382232666\n",
      "Training epoch: 143\n",
      "Training loss epoch: 1.8542192220687865\n",
      "Training epoch: 144\n",
      "Training loss epoch: 1.8771910429000855\n",
      "Training epoch: 145\n",
      "Training loss epoch: 1.8638466358184815\n",
      "Training epoch: 146\n",
      "Training loss epoch: 1.8712204217910766\n",
      "Training epoch: 147\n",
      "Training loss epoch: 1.8338942289352418\n",
      "Training epoch: 148\n",
      "Training loss epoch: 1.9139430046081543\n",
      "Training epoch: 149\n",
      "Training loss epoch: 1.9257891416549682\n",
      "Training epoch: 150\n",
      "Training loss epoch: 1.843212890625\n",
      "Training epoch: 151\n",
      "Training loss epoch: 1.8585212469100951\n",
      "Training epoch: 152\n",
      "Training loss epoch: 1.8471785306930542\n",
      "Training epoch: 153\n",
      "Training loss epoch: 1.8564921379089356\n",
      "Training epoch: 154\n",
      "Training loss epoch: 1.9066160917282104\n",
      "Training epoch: 155\n",
      "Training loss epoch: 1.8685724258422851\n",
      "Training epoch: 156\n",
      "Training loss epoch: 1.8667677640914917\n",
      "Training epoch: 157\n",
      "Training loss epoch: 1.843093252182007\n",
      "Training epoch: 158\n",
      "Training loss epoch: 1.8841022491455077\n",
      "Training epoch: 159\n",
      "Training loss epoch: 1.8768699884414672\n",
      "Training epoch: 160\n",
      "Training loss epoch: 1.8403871536254883\n",
      "Training epoch: 161\n",
      "Training loss epoch: 1.8862610340118409\n",
      "Training epoch: 162\n",
      "Training loss epoch: 1.869567322731018\n",
      "Training epoch: 163\n",
      "Training loss epoch: 1.8530956506729126\n",
      "Training epoch: 164\n",
      "Training loss epoch: 1.8455271244049072\n",
      "Training epoch: 165\n",
      "Training loss epoch: 1.8653714656829834\n",
      "Training epoch: 166\n",
      "Training loss epoch: 1.8508489608764649\n",
      "Training epoch: 167\n",
      "Training loss epoch: 1.8714783906936645\n",
      "Training epoch: 168\n",
      "Training loss epoch: 1.8077318668365479\n",
      "Training epoch: 169\n",
      "Training loss epoch: 1.8324819564819337\n",
      "Training epoch: 170\n",
      "Training loss epoch: 1.8553651809692382\n",
      "Training epoch: 171\n",
      "Training loss epoch: 1.8766685485839845\n",
      "Training epoch: 172\n",
      "Training loss epoch: 1.8241804122924805\n",
      "Training epoch: 173\n",
      "Training loss epoch: 1.8356675386428833\n",
      "Training epoch: 174\n",
      "Training loss epoch: 1.8387220859527589\n",
      "Training epoch: 175\n",
      "Training loss epoch: 1.8537489652633667\n",
      "Training epoch: 176\n",
      "Training loss epoch: 1.8557869434356689\n",
      "Training epoch: 177\n",
      "Training loss epoch: 1.7732614994049072\n",
      "Training epoch: 178\n",
      "Training loss epoch: 1.8505650520324708\n",
      "Training epoch: 179\n",
      "Training loss epoch: 1.857516098022461\n",
      "Training epoch: 180\n",
      "Training loss epoch: 1.8996509552001952\n",
      "Training epoch: 181\n",
      "Training loss epoch: 1.8270271062850951\n",
      "Training epoch: 182\n",
      "Training loss epoch: 1.8911744832992554\n",
      "Training epoch: 183\n",
      "Training loss epoch: 1.8378340005874634\n",
      "Training epoch: 184\n",
      "Training loss epoch: 1.8982768774032592\n",
      "Training epoch: 185\n",
      "Training loss epoch: 1.8431858539581298\n",
      "Training epoch: 186\n",
      "Training loss epoch: 1.8200123071670533\n",
      "Training epoch: 187\n",
      "Training loss epoch: 1.8609935760498046\n",
      "Training epoch: 188\n",
      "Training loss epoch: 1.881063461303711\n",
      "Training epoch: 189\n",
      "Training loss epoch: 1.853187131881714\n",
      "Training epoch: 190\n",
      "Training loss epoch: 1.9010888576507567\n",
      "Training epoch: 191\n",
      "Training loss epoch: 1.874502944946289\n",
      "Training epoch: 192\n",
      "Training loss epoch: 1.8370252847671509\n",
      "Training epoch: 193\n",
      "Training loss epoch: 1.8578083515167236\n",
      "Training epoch: 194\n",
      "Training loss epoch: 1.847933840751648\n",
      "Training epoch: 195\n",
      "Training loss epoch: 1.8772881984710694\n",
      "Training epoch: 196\n",
      "Training loss epoch: 1.8450617790222168\n",
      "Training epoch: 197\n",
      "Training loss epoch: 1.8149715185165405\n",
      "Training epoch: 198\n",
      "Training loss epoch: 1.8729592084884643\n",
      "Training epoch: 199\n",
      "Training loss epoch: 1.8584259033203125\n",
      "Training epoch: 200\n",
      "Training loss epoch: 1.8860943794250489\n"
     ]
    }
   ],
   "source": [
    "for epoch in range(200):\n",
    "    print(f\"Training epoch: {epoch + 1}\")\n",
    "    train(epoch)"
   ]
  },
  {
   "cell_type": "markdown",
   "id": "c1c35a76-b5ba-4f49-9ea7-b10e81868b26",
   "metadata": {},
   "source": [
    "Now to prove the concept I will just run a simple example implementation"
   ]
  },
  {
   "cell_type": "code",
   "execution_count": 585,
   "id": "c1875366-4bbe-48ff-a4e0-b126678ad026",
   "metadata": {},
   "outputs": [],
   "source": [
    "df_raw['discharge_note_clean'] = df_raw['discharge_note'].str.lower().str.translate(str.maketrans('', '', string.punctuation))"
   ]
  },
  {
   "cell_type": "code",
   "execution_count": 586,
   "id": "0a629501-ec37-404e-a91a-b04914c9f4c8",
   "metadata": {},
   "outputs": [
    {
     "name": "stderr",
     "output_type": "stream",
     "text": [
      "Device set to use cpu\n"
     ]
    }
   ],
   "source": [
    "#Convert the model into a pipeline for ease of use\n",
    "ner_transformer = pipeline(\"ner\", model=model, tokenizer=tokenizer)"
   ]
  },
  {
   "cell_type": "code",
   "execution_count": 596,
   "id": "be041d59-e9e5-4977-b501-41fafcdc5ebd",
   "metadata": {},
   "outputs": [],
   "source": [
    "idx_to_output = 6\n",
    "\n",
    "input_str = df_raw['discharge_note_clean'][idx_to_output]\n",
    "output_lst = ner_transformer(input_str)"
   ]
  },
  {
   "cell_type": "code",
   "execution_count": 597,
   "id": "c558bdd5-bd82-48d9-b3f6-6eb52eb8dbf0",
   "metadata": {},
   "outputs": [],
   "source": [
    "output_labels = []\n",
    "\n",
    "for out in output_lst:\n",
    "    ent = out['entity']\n",
    "    ent_int = int(ent[-1])\n",
    "    end_lab = ids_to_labels[ent_int]\n",
    "    output_labels.append(end_lab)"
   ]
  },
  {
   "cell_type": "code",
   "execution_count": 598,
   "id": "cf57e37b-bcb0-4ef2-96e3-86166a7f012f",
   "metadata": {},
   "outputs": [
    {
     "name": "stdout",
     "output_type": "stream",
     "text": [
      "discharge after recovery from pneumonia no complications observed\n",
      "['O', 'TRT', 'DGN', 'SYM', 'O', 'MED', 'MED', 'SYM']\n"
     ]
    }
   ],
   "source": [
    "print(input_str)\n",
    "print(output_labels)"
   ]
  },
  {
   "cell_type": "markdown",
   "id": "733066dc-4983-44db-8992-f04af0b753fd",
   "metadata": {},
   "source": [
    "To continue using the model outputs you have some options, either generate additional features from these for the classification model or use them to generate a quick patient summary for any doctor who next encounters this patient.\n",
    "\n",
    "However, It appears that once again the model is struggling to train, likely because of the absolutely tiny text corpus, in this instance I would 100% use a simple regex or word lookup to generate features unless more data is given. I have tried training a couple of times with different parameters to no real success, likely because the model is so large and trying to fine tune on such a tiny vocabulary given the initial vocabulary is like trying to change the ocean current with a paddleboat.\n",
    "\n",
    "As the base LLM was trained on a general text corpus this model would need significant fine tuning on a specific and large medical corpus to be reliable.  This is because of the risk of misinformation on the model input could have significant adverse consequences if the advice from a general LLM is used in a medical setting as the training data is likely to be incorrect.  Especially given the inputs for a lot of LLMs is typically things like reddit siterips which may well have amateurs giving opinions on medical issues which if the model outputs these potentially incorrect opinions then in a medical setting could be putting lives at risk.  This is why I would suggest significant tuning on a large medical corpus and even then to take the model outputs as nothing more than a potential guideline and not as a strict instruction.  I would absolutely insist on a random sample of outputs be vetted and verified by medical professionals before productionalizing any LLM in this setting.  \n",
    "\n",
    "Assuming I could get more data I would fine tune the model much more, likely also add in things like learning rate attenuation and find a better way to generate targets.  I would probably ask superiors for funding when it comes to data labelling and maybe use some online service such as Amazon Mechanical Turk to get labelled data, although given the medical use I would be reviewing a lot of this work, and get a medical professional to write up guidelines for the people doing the data labelling.  Also an obvious difference would be to use a more up to date, such as DeepSeek or of course ChatGPT as the baseline model to fine tune, and do so on a cloud TPU as opposed to my personal local machine."
   ]
  },
  {
   "cell_type": "code",
   "execution_count": null,
   "id": "54fe1535-5508-46f8-a738-ab7e9e485fc5",
   "metadata": {},
   "outputs": [],
   "source": []
  }
 ],
 "metadata": {
  "kernelspec": {
   "display_name": "Python 3 (ipykernel)",
   "language": "python",
   "name": "python3"
  },
  "language_info": {
   "codemirror_mode": {
    "name": "ipython",
    "version": 3
   },
   "file_extension": ".py",
   "mimetype": "text/x-python",
   "name": "python",
   "nbconvert_exporter": "python",
   "pygments_lexer": "ipython3",
   "version": "3.10.4"
  }
 },
 "nbformat": 4,
 "nbformat_minor": 5
}
